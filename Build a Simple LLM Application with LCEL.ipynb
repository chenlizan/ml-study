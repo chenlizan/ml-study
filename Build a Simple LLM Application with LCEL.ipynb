{
 "cells": [
  {
   "metadata": {
    "ExecuteTime": {
     "end_time": "2024-07-18T08:21:40.788181Z",
     "start_time": "2024-07-18T08:21:40.785883Z"
    }
   },
   "cell_type": "code",
   "source": [
    "import langchain\n",
    "import langchain_community"
   ],
   "id": "7d9383a11522c530",
   "outputs": [],
   "execution_count": 11
  },
  {
   "metadata": {
    "ExecuteTime": {
     "end_time": "2024-07-18T09:03:27.380550Z",
     "start_time": "2024-07-18T09:03:27.377976Z"
    }
   },
   "cell_type": "code",
   "source": [
    "import os\n",
    "\n",
    "os.environ[\"LANGCHAIN_TRACING_V2\"] = \"true\"\n",
    "os.environ[\"LANGCHAIN_API_KEY\"] =  \"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\""
   ],
   "id": "6dc9553cab93367e",
   "outputs": [],
   "execution_count": 23
  },
  {
   "metadata": {
    "ExecuteTime": {
     "end_time": "2024-07-18T09:03:37.813407Z",
     "start_time": "2024-07-18T09:03:30.686442Z"
    }
   },
   "cell_type": "code",
   "source": [
    "from langchain_community.llms import Ollama\n",
    "\n",
    "llm = Ollama(\n",
    "    model=\"qwen2\"\n",
    ")\n",
    "\n",
    "llm.invoke(\"你好吗\")"
   ],
   "id": "cc318132f1ae1a3a",
   "outputs": [
    {
     "data": {
      "text/plain": [
       "'我是一个大模型，没有情感和自我意识。我只能提供信息和帮助您解决问题。如果您有任何问题或需要帮助，请告诉我！'"
      ]
     },
     "execution_count": 24,
     "metadata": {},
     "output_type": "execute_result"
    }
   ],
   "execution_count": 24
  },
  {
   "metadata": {
    "ExecuteTime": {
     "end_time": "2024-07-18T09:03:44.802252Z",
     "start_time": "2024-07-18T09:03:43.209527Z"
    }
   },
   "cell_type": "code",
   "source": [
    "from langchain_core.messages import HumanMessage, SystemMessage\n",
    "\n",
    "messages = [\n",
    "    SystemMessage(content=\"Translate the following from English into Chinese\"),\n",
    "    HumanMessage(content=\"hi!\"),\n",
    "]\n",
    "\n",
    "llm.invoke(messages)"
   ],
   "id": "3ce833d23195543b",
   "outputs": [
    {
     "data": {
      "text/plain": [
       "'你好！'"
      ]
     },
     "execution_count": 25,
     "metadata": {},
     "output_type": "execute_result"
    }
   ],
   "execution_count": 25
  },
  {
   "metadata": {
    "ExecuteTime": {
     "end_time": "2024-07-18T09:03:47.112709Z",
     "start_time": "2024-07-18T09:03:47.110233Z"
    }
   },
   "cell_type": "code",
   "source": [
    "from langchain_core.output_parsers import StrOutputParser\n",
    "\n",
    "parser = StrOutputParser()"
   ],
   "id": "ca69905098f71772",
   "outputs": [],
   "execution_count": 26
  },
  {
   "metadata": {
    "ExecuteTime": {
     "end_time": "2024-07-18T09:03:50.103437Z",
     "start_time": "2024-07-18T09:03:50.101096Z"
    }
   },
   "cell_type": "code",
   "source": "chain = llm | parser",
   "id": "8be7d64a8e692291",
   "outputs": [],
   "execution_count": 27
  },
  {
   "metadata": {
    "ExecuteTime": {
     "end_time": "2024-07-18T09:03:52.899049Z",
     "start_time": "2024-07-18T09:03:51.919092Z"
    }
   },
   "cell_type": "code",
   "source": "chain.invoke(messages)",
   "id": "a64d970140eea2c5",
   "outputs": [
    {
     "data": {
      "text/plain": [
       "'你好！'"
      ]
     },
     "execution_count": 28,
     "metadata": {},
     "output_type": "execute_result"
    }
   ],
   "execution_count": 28
  }
 ],
 "metadata": {
  "kernelspec": {
   "display_name": "Python 3",
   "language": "python",
   "name": "python3"
  },
  "language_info": {
   "codemirror_mode": {
    "name": "ipython",
    "version": 2
   },
   "file_extension": ".py",
   "mimetype": "text/x-python",
   "name": "python",
   "nbconvert_exporter": "python",
   "pygments_lexer": "ipython2",
   "version": "2.7.6"
  }
 },
 "nbformat": 4,
 "nbformat_minor": 5
}
